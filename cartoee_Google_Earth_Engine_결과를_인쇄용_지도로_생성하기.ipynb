{
  "cells": [
    {
      "cell_type": "markdown",
      "metadata": {
        "id": "view-in-github",
        "colab_type": "text"
      },
      "source": [
        "<a href=\"https://colab.research.google.com/github/osgeokr/geemap/blob/master/cartoee_Google_Earth_Engine_%EA%B2%B0%EA%B3%BC%EB%A5%BC_%EC%9D%B8%EC%87%84%EC%9A%A9_%EC%A7%80%EB%8F%84%EB%A1%9C_%EC%83%9D%EC%84%B1%ED%95%98%EA%B8%B0.ipynb\" target=\"_parent\"><img src=\"https://colab.research.google.com/assets/colab-badge.svg\" alt=\"Open In Colab\"/></a>"
      ]
    },
    {
      "cell_type": "markdown",
      "source": [
        "# cartoee: Google Earth Engine 결과를 인쇄용 지도로 생성하기"
      ],
      "metadata": {
        "id": "E7lSciGcAyLn"
      },
      "id": "E7lSciGcAyLn"
    },
    {
      "cell_type": "markdown",
      "id": "2",
      "metadata": {
        "id": "2"
      },
      "source": [
        "# How to create publication quality maps using `cartoee`\n",
        "\n",
        "`cartoee` is a lightweight module to aid in creating publication quality maps from Earth Engine processing results without having to download data. The `cartoee` package does this by requesting png images from EE results (which are usually good enough for visualization) and `cartopy` is used to create the plots. Utility functions are available to create plot aesthetics such as gridlines or color bars. **The notebook and the geemap cartoee module ([cartoee.py](https://geemap.org/cartoee)) were contributed by [Kel Markert](https://github.com/KMarkert). A huge thank you to him.**"
      ]
    },
    {
      "cell_type": "code",
      "execution_count": null,
      "id": "3",
      "metadata": {
        "id": "3"
      },
      "outputs": [],
      "source": [
        "%pylab inline\n",
        "\n",
        "import ee\n",
        "import geemap\n",
        "import matplotlib.pyplot as plt\n",
        "\n",
        "# import the cartoee functionality from geemap\n",
        "from geemap import cartoee"
      ]
    },
    {
      "cell_type": "code",
      "execution_count": null,
      "id": "4",
      "metadata": {
        "id": "4"
      },
      "outputs": [],
      "source": [
        "geemap.ee_initialize()"
      ]
    },
    {
      "cell_type": "markdown",
      "id": "5",
      "metadata": {
        "id": "5"
      },
      "source": [
        "## Plotting an image\n",
        "\n",
        "In this first example we will explore the most basic functionality including plotting and image, adding a colorbar, and adding visual aethetic features. Here we will use SRTM data to plot global elevation."
      ]
    },
    {
      "cell_type": "code",
      "execution_count": null,
      "id": "6",
      "metadata": {
        "id": "6"
      },
      "outputs": [],
      "source": [
        "# get an image\n",
        "srtm = ee.Image(\"CGIAR/SRTM90_V4\")"
      ]
    },
    {
      "cell_type": "code",
      "execution_count": null,
      "id": "7",
      "metadata": {
        "id": "7"
      },
      "outputs": [],
      "source": [
        "# geospatial region in format [E,S,W,N]\n",
        "region = [180, -60, -180, 85]  # define bounding box to request data\n",
        "vis = {\"min\": 0, \"max\": 3000}  # define visualization parameters for image"
      ]
    },
    {
      "cell_type": "code",
      "execution_count": null,
      "id": "8",
      "metadata": {
        "id": "8"
      },
      "outputs": [],
      "source": [
        "fig = plt.figure(figsize=(15, 10))\n",
        "\n",
        "# use cartoee to get a map\n",
        "ax = cartoee.get_map(srtm, region=region, vis_params=vis)\n",
        "\n",
        "# add a colorbar to the map using the visualization params we passed to the map\n",
        "cartoee.add_colorbar(ax, vis, loc=\"bottom\", label=\"Elevation\", orientation=\"horizontal\")\n",
        "\n",
        "# add gridlines to the map at a specified interval\n",
        "cartoee.add_gridlines(ax, interval=[60, 30], linestyle=\":\")\n",
        "\n",
        "# add coastlines using the cartopy api\n",
        "ax.coastlines(color=\"red\")\n",
        "\n",
        "plt.show()"
      ]
    },
    {
      "cell_type": "markdown",
      "id": "9",
      "metadata": {
        "id": "9"
      },
      "source": [
        "This is a decent map for minimal amount of code. But we can also easily use matplotlib colormaps to visualize our EE results to add more color. Here we add a `cmap` keyword to the `.get_map()` and `.add_colorbar()` functions."
      ]
    },
    {
      "cell_type": "code",
      "execution_count": null,
      "id": "10",
      "metadata": {
        "id": "10"
      },
      "outputs": [],
      "source": [
        "fig = plt.figure(figsize=(15, 10))\n",
        "\n",
        "cmap = \"gist_earth\"  # colormap we want to use\n",
        "# cmap = \"terrain\"\n",
        "\n",
        "# use cartoee to get a map\n",
        "ax = cartoee.get_map(srtm, region=region, vis_params=vis, cmap=cmap)\n",
        "\n",
        "# add a colorbar to the map using the visualization params we passed to the map\n",
        "cartoee.add_colorbar(\n",
        "    ax, vis, cmap=cmap, loc=\"right\", label=\"Elevation\", orientation=\"vertical\"\n",
        ")\n",
        "\n",
        "# add gridlines to the map at a specified interval\n",
        "cartoee.add_gridlines(ax, interval=[60, 30], linestyle=\"--\")\n",
        "\n",
        "# add coastlines using the cartopy api\n",
        "ax.coastlines(color=\"red\")\n",
        "\n",
        "ax.set_title(label=\"Global Elevation Map\", fontsize=15)\n",
        "\n",
        "plt.show()"
      ]
    },
    {
      "cell_type": "markdown",
      "id": "11",
      "metadata": {
        "id": "11"
      },
      "source": [
        "## Plotting an RGB image\n",
        "\n",
        "`cartoee` also allows for plotting of RGB image results directly. Here is an example of plotting a Landsat false-color scene."
      ]
    },
    {
      "cell_type": "code",
      "execution_count": null,
      "id": "12",
      "metadata": {
        "id": "12"
      },
      "outputs": [],
      "source": [
        "# get a landsat image to visualize\n",
        "image = ee.Image(\"LANDSAT/LC08/C01/T1_SR/LC08_044034_20140318\")\n",
        "\n",
        "# define the visualization parameters to view\n",
        "vis = {\"bands\": [\"B5\", \"B4\", \"B3\"], \"min\": 0, \"max\": 5000, \"gamma\": 1.3}"
      ]
    },
    {
      "cell_type": "code",
      "execution_count": null,
      "id": "13",
      "metadata": {
        "id": "13"
      },
      "outputs": [],
      "source": [
        "fig = plt.figure(figsize=(15, 10))\n",
        "\n",
        "# use cartoee to get a map\n",
        "ax = cartoee.get_map(image, vis_params=vis)\n",
        "\n",
        "# pad the view for some visual appeal\n",
        "cartoee.pad_view(ax)\n",
        "\n",
        "# add the gridlines and specify that the xtick labels be rotated 45 degrees\n",
        "cartoee.add_gridlines(ax, interval=0.5, xtick_rotation=45, linestyle=\":\")\n",
        "\n",
        "# add the coastline\n",
        "ax.coastlines(color=\"yellow\")\n",
        "\n",
        "plt.show()"
      ]
    },
    {
      "cell_type": "markdown",
      "id": "14",
      "metadata": {
        "id": "14"
      },
      "source": [
        "By default, if a region is not provided via the `region` keyword the whole extent of the image will be plotted as seen in the previous Landsat example. We can also zoom to a specific region of an image by defining the region to plot."
      ]
    },
    {
      "cell_type": "code",
      "execution_count": null,
      "id": "15",
      "metadata": {
        "id": "15"
      },
      "outputs": [],
      "source": [
        "fig = plt.figure(figsize=(15, 10))\n",
        "\n",
        "# here is the bounding box of the map extent we want to use\n",
        "# formatted a [E,S,W,N]\n",
        "zoom_region = [-121.8025, 37.3458, -122.6265, 37.9178]\n",
        "\n",
        "# plot the map over the region of interest\n",
        "ax = cartoee.get_map(image, vis_params=vis, region=zoom_region)\n",
        "\n",
        "# add the gridlines and specify that the xtick labels be rotated 45 degrees\n",
        "cartoee.add_gridlines(ax, interval=0.15, xtick_rotation=45, linestyle=\":\")\n",
        "\n",
        "# add coastline\n",
        "ax.coastlines(color=\"yellow\")\n",
        "\n",
        "plt.show()"
      ]
    },
    {
      "cell_type": "markdown",
      "id": "16",
      "metadata": {
        "id": "16"
      },
      "source": [
        "## Adding north arrow and scale bar"
      ]
    },
    {
      "cell_type": "code",
      "execution_count": null,
      "id": "17",
      "metadata": {
        "id": "17"
      },
      "outputs": [],
      "source": [
        "fig = plt.figure(figsize=(15, 10))\n",
        "\n",
        "# here is the bounding box of the map extent we want to use\n",
        "# formatted a [E,S,W,N]\n",
        "zoom_region = [-121.8025, 37.3458, -122.6265, 37.9178]\n",
        "\n",
        "# plot the map over the region of interest\n",
        "ax = cartoee.get_map(image, vis_params=vis, region=zoom_region)\n",
        "\n",
        "# add the gridlines and specify that the xtick labels be rotated 45 degrees\n",
        "cartoee.add_gridlines(ax, interval=0.15, xtick_rotation=45, linestyle=\":\")\n",
        "\n",
        "# add coastline\n",
        "ax.coastlines(color=\"yellow\")\n",
        "\n",
        "# add north arrow\n",
        "cartoee.add_north_arrow(\n",
        "    ax, text=\"N\", xy=(0.05, 0.25), text_color=\"white\", arrow_color=\"white\", fontsize=20\n",
        ")\n",
        "\n",
        "# add scale bar\n",
        "cartoee.add_scale_bar_lite(\n",
        "    ax, length=10, xy=(0.1, 0.05), fontsize=20, color=\"white\", unit=\"km\"\n",
        ")\n",
        "\n",
        "ax.set_title(label=\"Landsat False Color Composite (Band 5/4/3)\", fontsize=15)\n",
        "\n",
        "plt.show()"
      ]
    },
    {
      "cell_type": "code",
      "execution_count": null,
      "id": "18",
      "metadata": {
        "id": "18"
      },
      "outputs": [],
      "source": []
    }
  ],
  "metadata": {
    "colab": {
      "provenance": [],
      "include_colab_link": true
    },
    "kernelspec": {
      "display_name": "Python 3",
      "language": "python",
      "name": "python3"
    }
  },
  "nbformat": 4,
  "nbformat_minor": 5
}